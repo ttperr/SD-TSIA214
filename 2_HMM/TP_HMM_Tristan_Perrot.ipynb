{
 "cells": [
  {
   "attachments": {},
   "cell_type": "markdown",
   "metadata": {},
   "source": [
    "# Text segmentation using Hidden Markov Models\n",
    "> Tristan Perrot\n",
    "\n",
    "## Automatic segmentation of mails, problem statement\n",
    "\n",
    "- ***Q1:** Give the value of the π vector of the initial probabilities*\n",
    "\n",
    "It is assumed that each mail actually contains a header : the decoding necessarily begins in the state 1. Then the $\\pi$ vector is defined as :\n",
    "$$\n",
    "\\pi = \\begin{pmatrix} 1 \\\\ 0 \\end{pmatrix}\n",
    "$$\n",
    "\n",
    "- ***Q2:** What is the probability to move from state 1 to state 2 ? What is the probability to remain in state 2 ? What is the lower/higher probability ? Try to explain why*\n",
    "\n",
    "The transition matrix estimated on a labeled small corpus has the following form :\n",
    "$$\n",
    "A = \\begin{pmatrix} 0.999218078035812 & 0.000781921964187974 0 \\\\ 0 & 1 \\end{pmatrix}\n",
    "$$\n",
    "\n",
    "The probability to move from state 1 to state 2 is $0.000781921964187974$, and the probability to remain in state 2 is $1$. The **lower** probability is the probability to **move from state 1 to state 2** and the **higher** is to **remain in the state 2**. This is due to the fact that since we moved from the header to the body it's impossible to see again the body because we know that each mail contains exactly one header and one body, each mail follows once the transition from 1 to 2.\n",
    "\n",
    "- ***Q3:** What is the size of B ?*\n",
    "\n",
    "$B$ is the observation matrix. $N$ is the number of different characters. Since each part of the mail is characterized by a discrete probability distribution on the characters $P(c|s)$, with $s = 1$ or $s = 2$. Then, the shape of $B$ is $(N, 2)$.\n",
    "\n",
    "## Material\n",
    "\n",
    "### Coding/decoding mails"
   ]
  },
  {
   "cell_type": "code",
   "execution_count": 1,
   "metadata": {},
   "outputs": [],
   "source": [
    "import numpy as np"
   ]
  },
  {
   "cell_type": "code",
   "execution_count": 13,
   "metadata": {},
   "outputs": [],
   "source": [
    "# Load the list of files\n",
    "mailList = np.loadtxt('dat/mail.lst', dtype='str')\n",
    "mails = np.array([np.loadtxt(\"dat/\" + mail, dtype=int) for mail in mailList], dtype=object)\n",
    "\n",
    "# Config\n",
    "pi = np.array([1, 0])\n",
    "A = np.array([[0.999218078035812, 0.000781921964187974], [0, 1]])\n",
    "B = np.loadtxt(\"PerlScriptAndModel/P.text\")"
   ]
  },
  {
   "cell_type": "code",
   "execution_count": 11,
   "metadata": {},
   "outputs": [],
   "source": [
    "def viterbi(observations, pi, A, B):\n",
    "    # Number of states and observations\n",
    "    num_states = A.shape[0]\n",
    "    num_observations = len(observations)\n",
    "\n",
    "    # Initialize the Viterbi trellis and backpointers\n",
    "    viterbi_trellis = np.zeros((num_states, num_observations))\n",
    "    backpointers = np.zeros((num_states, num_observations), dtype=int)\n",
    "\n",
    "    # Initialize the first column of the Viterbi trellis\n",
    "    viterbi_trellis[:, 0] = pi * B[observations[0], :]\n",
    "\n",
    "    # Perform the Viterbi algorithm\n",
    "    for t in range(1, num_observations):\n",
    "        for s in range(num_states):\n",
    "            # Calculate the maximum probability and corresponding backpointer\n",
    "            max_prob = np.max(viterbi_trellis[:, t-1] * A[:, s] * B[observations[t], s])\n",
    "            backpointers[s, t] = np.argmax(viterbi_trellis[:, t-1] * A[:, s] * B[observations[t], s])\n",
    "\n",
    "            # Update the Viterbi trellis with the maximum probability\n",
    "            viterbi_trellis[s, t] = max_prob\n",
    "\n",
    "    # Find the sequence of states with the highest probability\n",
    "    best_sequence = [np.argmax(viterbi_trellis[:, -1])]\n",
    "    for t in range(num_observations-1, 0, -1):\n",
    "        best_sequence.append(backpointers[best_sequence[-1], t])\n",
    "\n",
    "    best_sequence.reverse()\n",
    "    return best_sequence"
   ]
  },
  {
   "cell_type": "code",
   "execution_count": 16,
   "metadata": {},
   "outputs": [
    {
     "name": "stdout",
     "output_type": "stream",
     "text": [
      "Mail 11:\n",
      "False\n",
      "Mail 12:\n",
      "False\n",
      "Mail 13:\n",
      "False\n",
      "Mail 14:\n",
      "False\n",
      "Mail 15:\n",
      "False\n",
      "Mail 16:\n",
      "False\n",
      "Mail 17:\n",
      "False\n",
      "Mail 18:\n",
      "False\n",
      "Mail 19:\n",
      "False\n",
      "Mail 20:\n",
      "False\n",
      "Mail 21:\n",
      "False\n",
      "Mail 22:\n",
      "False\n",
      "Mail 23:\n",
      "False\n",
      "Mail 24:\n",
      "False\n",
      "Mail 25:\n",
      "False\n",
      "Mail 26:\n",
      "False\n",
      "Mail 27:\n",
      "False\n",
      "Mail 28:\n",
      "False\n",
      "Mail 29:\n",
      "False\n",
      "Mail 30:\n",
      "False\n"
     ]
    }
   ],
   "source": [
    "# Test Viterbi on some mails that are given in the dat directory (especially mail11.txt to mail30.txt).\n",
    "\n",
    "for i in range(10, 30):\n",
    "    print(\"Mail \" + str(i+1) + \":\")\n",
    "    print(1 in viterbi(mails[i], pi, A, B))"
   ]
  },
  {
   "attachments": {},
   "cell_type": "markdown",
   "metadata": {},
   "source": [
    "- ***Q5:** How would you model the problem if you had to segment the mails in more than two parts (for example : header, body, signature) ?*\n",
    "\n",
    "In this case, the model will have more states, if we denote $Q$ the number of states then the shape of $A$ will be $(Q,Q)$, the shape of $B$ will be $(N,Q)$ and $\\pi$ will be equal to $\\begin{pmatrix} 1 \\\\ 0 \\\\ 0 \\end{pmatrix}$.The rest will be the same.\n",
    "\n",
    "- ***Q6:** How would you model the problem of separating the portions of mail included, knowing that they always start with the character \">\"*\n"
   ]
  }
 ],
 "metadata": {
  "kernelspec": {
   "display_name": "Python 3",
   "language": "python",
   "name": "python3"
  },
  "language_info": {
   "codemirror_mode": {
    "name": "ipython",
    "version": 3
   },
   "file_extension": ".py",
   "mimetype": "text/x-python",
   "name": "python",
   "nbconvert_exporter": "python",
   "pygments_lexer": "ipython3",
   "version": "3.11.0"
  },
  "orig_nbformat": 4
 },
 "nbformat": 4,
 "nbformat_minor": 2
}
